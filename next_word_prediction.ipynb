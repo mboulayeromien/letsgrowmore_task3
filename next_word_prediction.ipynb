{
 "cells": [
  {
   "cell_type": "code",
   "execution_count": 1,
   "id": "0d13827a",
   "metadata": {},
   "outputs": [],
   "source": [
    "import numpy as np\n",
    "from nltk.tokenize import RegexpTokenizer\n",
    "from keras.models import Sequential, load_model\n",
    "from keras.layers import LSTM\n",
    "from keras.layers.core import Dense, Activation\n",
    "from keras.optimizers import RMSprop\n",
    "import matplotlib.pyplot as plt\n",
    "import pickle\n",
    "import heapq"
   ]
  },
  {
   "cell_type": "code",
   "execution_count": 2,
   "id": "f2f86f03",
   "metadata": {},
   "outputs": [
    {
     "name": "stdout",
     "output_type": "stream",
     "text": [
      "corpus length: 581888\n"
     ]
    }
   ],
   "source": [
    "path = '1661-0.txt'\n",
    "text = open(path, encoding='utf-8').read().lower()\n",
    "print('corpus length:', len(text))"
   ]
  },
  {
   "cell_type": "code",
   "execution_count": 3,
   "id": "37d03762",
   "metadata": {},
   "outputs": [],
   "source": [
    "# splitting individual words ignoring special characters\n",
    "# tokenizer = RegexpTokenizer(r'\\w+|\\[\\d+\\.]+|\\S+')\n",
    "tokenizer = RegexpTokenizer(r'\\w+')\n",
    "words = tokenizer.tokenize(text)"
   ]
  },
  {
   "cell_type": "code",
   "execution_count": 4,
   "id": "c0536a75",
   "metadata": {},
   "outputs": [
    {
     "data": {
      "text/plain": [
       "109226"
      ]
     },
     "execution_count": 4,
     "metadata": {},
     "output_type": "execute_result"
    }
   ],
   "source": [
    "len(words)"
   ]
  },
  {
   "cell_type": "code",
   "execution_count": 5,
   "id": "58f29eab",
   "metadata": {},
   "outputs": [],
   "source": [
    "unique_words = np.unique(words)\n",
    "unique_word_index = dict((c, i) for i, c in enumerate(unique_words))"
   ]
  },
  {
   "cell_type": "code",
   "execution_count": 6,
   "id": "f4126f53",
   "metadata": {},
   "outputs": [],
   "source": [
    "# unique_word_index"
   ]
  },
  {
   "cell_type": "code",
   "execution_count": 7,
   "id": "6aad1d7f",
   "metadata": {},
   "outputs": [
    {
     "name": "stdout",
     "output_type": "stream",
     "text": [
      "['project', 'gutenberg', 's', 'the', 'adventures']\n",
      "of\n"
     ]
    }
   ],
   "source": [
    "WORD_LENGTH = 5\n",
    "prev_words = []\n",
    "next_words = []\n",
    "for i in range(len(words) - WORD_LENGTH):\n",
    "    prev_words.append(words[i:i + WORD_LENGTH])\n",
    "    next_words.append(words[i + WORD_LENGTH])\n",
    "print(prev_words[0])\n",
    "print(next_words[0])"
   ]
  },
  {
   "cell_type": "code",
   "execution_count": 8,
   "id": "4fd38484",
   "metadata": {},
   "outputs": [],
   "source": [
    "X = np.zeros((len(prev_words), WORD_LENGTH, len(unique_words)), dtype=bool)\n",
    "Y = np.zeros((len(next_words), len(unique_words)), dtype=bool)\n",
    "for i, each_words in enumerate(prev_words):\n",
    "    for j, each_word in enumerate(each_words):\n",
    "        X[i, j, unique_word_index[each_word]] = 1\n",
    "    Y[i, unique_word_index[next_words[i]]] = 1"
   ]
  },
  {
   "cell_type": "code",
   "execution_count": 9,
   "id": "e5b5f3a6",
   "metadata": {},
   "outputs": [
    {
     "name": "stdout",
     "output_type": "stream",
     "text": [
      "[False False False ... False False False]\n"
     ]
    }
   ],
   "source": [
    "print(X[0][0])"
   ]
  },
  {
   "cell_type": "code",
   "execution_count": 10,
   "id": "76b88f1d",
   "metadata": {},
   "outputs": [],
   "source": [
    "# model Building\n",
    "model = Sequential()\n",
    "model.add(LSTM(128, input_shape=(WORD_LENGTH, len(unique_words))))\n",
    "model.add(Dense(len(unique_words)))\n",
    "model.add(Activation('softmax'))"
   ]
  },
  {
   "cell_type": "code",
   "execution_count": 11,
   "id": "02c44ad9",
   "metadata": {
    "collapsed": true
   },
   "outputs": [
    {
     "name": "stderr",
     "output_type": "stream",
     "text": [
      "C:\\Users\\myrom\\AppData\\Roaming\\Python\\Python37\\site-packages\\keras\\optimizers\\optimizer_v2\\rmsprop.py:143: UserWarning: The `lr` argument is deprecated, use `learning_rate` instead.\n",
      "  super().__init__(name, **kwargs)\n"
     ]
    },
    {
     "name": "stdout",
     "output_type": "stream",
     "text": [
      "Epoch 1/50\n",
      "811/811 [==============================] - 915s 1s/step - loss: 6.0120 - accuracy: 0.1066 - val_loss: 7.1010 - val_accuracy: 0.1012\n",
      "Epoch 2/50\n",
      "811/811 [==============================] - 853s 1s/step - loss: 5.7845 - accuracy: 0.1466 - val_loss: 7.7908 - val_accuracy: 0.1001\n",
      "Epoch 3/50\n",
      "811/811 [==============================] - 833s 1s/step - loss: 5.7416 - accuracy: 0.1778 - val_loss: 8.0920 - val_accuracy: 0.1045\n",
      "Epoch 4/50\n",
      "811/811 [==============================] - 843s 1s/step - loss: 5.4378 - accuracy: 0.2129 - val_loss: 8.2160 - val_accuracy: 0.1053\n",
      "Epoch 5/50\n",
      "811/811 [==============================] - 842s 1s/step - loss: 5.1082 - accuracy: 0.2500 - val_loss: 8.4176 - val_accuracy: 0.0970\n",
      "Epoch 6/50\n",
      "811/811 [==============================] - 804s 992ms/step - loss: 4.7926 - accuracy: 0.2937 - val_loss: 8.5717 - val_accuracy: 0.0829\n",
      "Epoch 7/50\n",
      "811/811 [==============================] - 832s 1s/step - loss: 4.5585 - accuracy: 0.3294 - val_loss: 8.7002 - val_accuracy: 0.0910\n",
      "Epoch 8/50\n",
      "811/811 [==============================] - 805s 993ms/step - loss: 4.3799 - accuracy: 0.3648 - val_loss: 9.0495 - val_accuracy: 0.0866\n",
      "Epoch 9/50\n",
      "811/811 [==============================] - 844s 1s/step - loss: 4.2317 - accuracy: 0.3935 - val_loss: 9.0453 - val_accuracy: 0.0822\n",
      "Epoch 10/50\n",
      "811/811 [==============================] - 823s 1s/step - loss: 4.1293 - accuracy: 0.4203 - val_loss: 9.1589 - val_accuracy: 0.0818\n",
      "Epoch 11/50\n",
      "811/811 [==============================] - 831s 1s/step - loss: 4.0535 - accuracy: 0.4449 - val_loss: 8.8761 - val_accuracy: 0.0752\n",
      "Epoch 12/50\n",
      "811/811 [==============================] - 837s 1s/step - loss: 3.9831 - accuracy: 0.4716 - val_loss: 9.1880 - val_accuracy: 0.0811\n",
      "Epoch 13/50\n",
      "811/811 [==============================] - 845s 1s/step - loss: 3.8727 - accuracy: 0.4957 - val_loss: 9.2146 - val_accuracy: 0.0720\n",
      "Epoch 14/50\n",
      "811/811 [==============================] - 793s 978ms/step - loss: 3.7782 - accuracy: 0.5148 - val_loss: 9.3503 - val_accuracy: 0.0743\n",
      "Epoch 15/50\n",
      "811/811 [==============================] - 834s 1s/step - loss: 3.6866 - accuracy: 0.5334 - val_loss: 9.4871 - val_accuracy: 0.0659\n",
      "Epoch 16/50\n",
      "811/811 [==============================] - 836s 1s/step - loss: 3.5886 - accuracy: 0.5500 - val_loss: 9.6311 - val_accuracy: 0.0674\n",
      "Epoch 17/50\n",
      "811/811 [==============================] - 822s 1s/step - loss: 3.5096 - accuracy: 0.5649 - val_loss: 9.8222 - val_accuracy: 0.0683\n",
      "Epoch 18/50\n",
      "811/811 [==============================] - 841s 1s/step - loss: 3.4271 - accuracy: 0.5783 - val_loss: 9.8071 - val_accuracy: 0.0646\n",
      "Epoch 19/50\n",
      "811/811 [==============================] - 822s 1s/step - loss: 3.3661 - accuracy: 0.5881 - val_loss: 9.9580 - val_accuracy: 0.0652\n",
      "Epoch 20/50\n",
      "811/811 [==============================] - 842s 1s/step - loss: 3.3179 - accuracy: 0.5965 - val_loss: 10.0487 - val_accuracy: 0.0703\n",
      "Epoch 21/50\n",
      "811/811 [==============================] - 829s 1s/step - loss: 3.2792 - accuracy: 0.6035 - val_loss: 10.1272 - val_accuracy: 0.0624\n",
      "Epoch 22/50\n",
      "811/811 [==============================] - 805s 993ms/step - loss: 3.2547 - accuracy: 0.6107 - val_loss: 10.4188 - val_accuracy: 0.0617\n",
      "Epoch 23/50\n",
      "811/811 [==============================] - 846s 1s/step - loss: 3.2166 - accuracy: 0.6173 - val_loss: 10.5183 - val_accuracy: 0.0599\n",
      "Epoch 24/50\n",
      "811/811 [==============================] - 848s 1s/step - loss: 3.1818 - accuracy: 0.6227 - val_loss: 10.5122 - val_accuracy: 0.0560\n",
      "Epoch 25/50\n",
      "811/811 [==============================] - 833s 1s/step - loss: 3.1393 - accuracy: 0.6283 - val_loss: 10.6128 - val_accuracy: 0.0624\n",
      "Epoch 26/50\n",
      "811/811 [==============================] - 813s 1s/step - loss: 3.1054 - accuracy: 0.6333 - val_loss: 10.9764 - val_accuracy: 0.0580\n",
      "Epoch 27/50\n",
      "811/811 [==============================] - 851s 1s/step - loss: 3.0749 - accuracy: 0.6388 - val_loss: 11.0003 - val_accuracy: 0.0604\n",
      "Epoch 28/50\n",
      "811/811 [==============================] - 834s 1s/step - loss: 3.0446 - accuracy: 0.6423 - val_loss: 11.2324 - val_accuracy: 0.0566\n",
      "Epoch 29/50\n",
      "811/811 [==============================] - 836s 1s/step - loss: 3.0217 - accuracy: 0.6457 - val_loss: 11.0290 - val_accuracy: 0.0535\n",
      "Epoch 30/50\n",
      "811/811 [==============================] - 844s 1s/step - loss: 2.9942 - accuracy: 0.6508 - val_loss: 10.8793 - val_accuracy: 0.0595\n",
      "Epoch 31/50\n",
      "811/811 [==============================] - 858s 1s/step - loss: 2.9682 - accuracy: 0.6533 - val_loss: 11.3258 - val_accuracy: 0.0549\n",
      "Epoch 32/50\n",
      "811/811 [==============================] - 832s 1s/step - loss: 2.9505 - accuracy: 0.6565 - val_loss: 11.2209 - val_accuracy: 0.0540\n",
      "Epoch 33/50\n",
      "811/811 [==============================] - 586s 723ms/step - loss: 2.9254 - accuracy: 0.6597 - val_loss: 11.4377 - val_accuracy: 0.0566\n",
      "Epoch 34/50\n",
      "811/811 [==============================] - 434s 536ms/step - loss: 2.9123 - accuracy: 0.6631 - val_loss: 11.1083 - val_accuracy: 0.0564\n",
      "Epoch 35/50\n",
      "811/811 [==============================] - 430s 530ms/step - loss: 2.8891 - accuracy: 0.6660 - val_loss: 11.5836 - val_accuracy: 0.0564\n",
      "Epoch 36/50\n",
      "811/811 [==============================] - 424s 522ms/step - loss: 2.8811 - accuracy: 0.6673 - val_loss: 11.7673 - val_accuracy: 0.0536\n",
      "Epoch 37/50\n",
      "811/811 [==============================] - 438s 541ms/step - loss: 2.8722 - accuracy: 0.6683 - val_loss: 11.7405 - val_accuracy: 0.0558\n",
      "Epoch 38/50\n",
      "811/811 [==============================] - 429s 529ms/step - loss: 2.8638 - accuracy: 0.6693 - val_loss: 11.2519 - val_accuracy: 0.0591\n",
      "Epoch 39/50\n",
      "811/811 [==============================] - 429s 529ms/step - loss: 2.8616 - accuracy: 0.6693 - val_loss: 11.8985 - val_accuracy: 0.0566\n",
      "Epoch 40/50\n",
      "811/811 [==============================] - 426s 525ms/step - loss: 2.8654 - accuracy: 0.6704 - val_loss: 11.3520 - val_accuracy: 0.0549\n",
      "Epoch 41/50\n",
      "811/811 [==============================] - 422s 520ms/step - loss: 2.8778 - accuracy: 0.6718 - val_loss: 11.3343 - val_accuracy: 0.0566\n",
      "Epoch 42/50\n",
      "811/811 [==============================] - 430s 531ms/step - loss: 2.8891 - accuracy: 0.6720 - val_loss: 11.5486 - val_accuracy: 0.0536\n",
      "Epoch 43/50\n",
      "811/811 [==============================] - 417s 514ms/step - loss: 2.8755 - accuracy: 0.6738 - val_loss: 11.3957 - val_accuracy: 0.0569\n",
      "Epoch 44/50\n",
      "811/811 [==============================] - 431s 531ms/step - loss: 2.8680 - accuracy: 0.6739 - val_loss: 11.2995 - val_accuracy: 0.0564\n",
      "Epoch 45/50\n",
      "811/811 [==============================] - 427s 527ms/step - loss: 2.8559 - accuracy: 0.6771 - val_loss: 11.4828 - val_accuracy: 0.0558\n",
      "Epoch 46/50\n",
      "811/811 [==============================] - 428s 528ms/step - loss: 2.8496 - accuracy: 0.6790 - val_loss: 11.6378 - val_accuracy: 0.0542\n",
      "Epoch 47/50\n",
      "811/811 [==============================] - 427s 527ms/step - loss: 2.8381 - accuracy: 0.6790 - val_loss: 11.5611 - val_accuracy: 0.0536\n",
      "Epoch 48/50\n",
      "811/811 [==============================] - 422s 521ms/step - loss: 2.8277 - accuracy: 0.6802 - val_loss: 11.2688 - val_accuracy: 0.0557\n",
      "Epoch 49/50\n",
      "811/811 [==============================] - 428s 528ms/step - loss: 2.8190 - accuracy: 0.6824 - val_loss: 11.8117 - val_accuracy: 0.0511\n",
      "Epoch 50/50\n",
      "811/811 [==============================] - 413s 510ms/step - loss: 2.8101 - accuracy: 0.6843 - val_loss: 11.5543 - val_accuracy: 0.0516\n"
     ]
    }
   ],
   "source": [
    "# Compile and Train the Model\n",
    "optimizer = RMSprop(lr=0.01)\n",
    "model.compile(loss='categorical_crossentropy', optimizer=optimizer, metrics=['accuracy'])\n",
    "history = model.fit(X, Y, validation_split=0.05, batch_size=128, epochs=50, shuffle=True).history"
   ]
  },
  {
   "cell_type": "code",
   "execution_count": 16,
   "id": "f5f32bc1",
   "metadata": {},
   "outputs": [],
   "source": [
    "model.save('keras_next_word_model.h5')\n",
    "pickle.dump(history, open(\"history.p\", \"wb\"))\n",
    "model = load_model('keras_next_word_model.h5')\n",
    "history = pickle.load(open(\"history.p\", \"rb\"))"
   ]
  },
  {
   "cell_type": "code",
   "execution_count": 17,
   "id": "175562b1",
   "metadata": {},
   "outputs": [
    {
     "data": {
      "text/plain": [
       "<matplotlib.legend.Legend at 0x20b7877c988>"
      ]
     },
     "execution_count": 17,
     "metadata": {},
     "output_type": "execute_result"
    },
    {
     "data": {
      "image/png": "[encoded data removed]",
      "text/plain": [
       "<Figure size 640x480 with 1 Axes>"
      ]
     },
     "metadata": {},
     "output_type": "display_data"
    }
   ],
   "source": [
    "plt.plot(history['accuracy'])\n",
    "plt.plot(history['val_accuracy'])\n",
    "plt.title('model accuracy')\n",
    "plt.ylabel('accuracy')\n",
    "plt.xlabel('epoch')\n",
    "plt.legend(['train', 'test'], loc='upper left')"
   ]
  },
  {
   "cell_type": "code",
   "execution_count": 18,
   "id": "f5d016a1",
   "metadata": {
    "collapsed": true
   },
   "outputs": [
    {
     "data": {
      "text/plain": [
       "{'loss': [6.012002468109131,\n",
       "  5.784543514251709,\n",
       "  5.741645812988281,\n",
       "  5.437755584716797,\n",
       "  5.108153820037842,\n",
       "  4.792571544647217,\n",
       "  4.558517932891846,\n",
       "  4.379907608032227,\n",
       "  4.231658935546875,\n",
       "  4.129296779632568,\n",
       "  4.053512096405029,\n",
       "  3.983051061630249,\n",
       "  3.872671365737915,\n",
       "  3.7782421112060547,\n",
       "  3.6865994930267334,\n",
       "  3.5885777473449707,\n",
       "  3.5096333026885986,\n",
       "  3.4271326065063477,\n",
       "  3.3661341667175293,\n",
       "  3.317903518676758,\n",
       "  3.2791552543640137,\n",
       "  3.254650115966797,\n",
       "  3.2165634632110596,\n",
       "  3.181844472885132,\n",
       "  3.139291286468506,\n",
       "  3.105358600616455,\n",
       "  3.0749244689941406,\n",
       "  3.0445950031280518,\n",
       "  3.021695613861084,\n",
       "  2.9942057132720947,\n",
       "  2.9681873321533203,\n",
       "  2.950497627258301,\n",
       "  2.9254283905029297,\n",
       "  2.912283420562744,\n",
       "  2.8890812397003174,\n",
       "  2.8810582160949707,\n",
       "  2.8722212314605713,\n",
       "  2.8638362884521484,\n",
       "  2.861590623855591,\n",
       "  2.865377902984619,\n",
       "  2.8777925968170166,\n",
       "  2.8890810012817383,\n",
       "  2.8754541873931885,\n",
       "  2.8680150508880615,\n",
       "  2.8558664321899414,\n",
       "  2.84956693649292,\n",
       "  2.838097095489502,\n",
       "  2.827713966369629,\n",
       "  2.8190078735351562,\n",
       "  2.810121774673462],\n",
       " 'accuracy': [0.10656425356864929,\n",
       "  0.14663788676261902,\n",
       "  0.17783518135547638,\n",
       "  0.21287791430950165,\n",
       "  0.25001204013824463,\n",
       "  0.29369017481803894,\n",
       "  0.32940757274627686,\n",
       "  0.3648069202899933,\n",
       "  0.3934694826602936,\n",
       "  0.4203298091888428,\n",
       "  0.4449349045753479,\n",
       "  0.4716024696826935,\n",
       "  0.49571603536605835,\n",
       "  0.5147987008094788,\n",
       "  0.5334476828575134,\n",
       "  0.5500245690345764,\n",
       "  0.5648859143257141,\n",
       "  0.5782920122146606,\n",
       "  0.588103175163269,\n",
       "  0.5964879989624023,\n",
       "  0.6035043001174927,\n",
       "  0.6107228994369507,\n",
       "  0.6173151135444641,\n",
       "  0.6226833462715149,\n",
       "  0.6282731890678406,\n",
       "  0.6333137154579163,\n",
       "  0.6387975811958313,\n",
       "  0.6422671675682068,\n",
       "  0.6457175016403198,\n",
       "  0.650777280330658,\n",
       "  0.6533023715019226,\n",
       "  0.6565406322479248,\n",
       "  0.6596825122833252,\n",
       "  0.6631231904029846,\n",
       "  0.6659759879112244,\n",
       "  0.6672963500022888,\n",
       "  0.6683468222618103,\n",
       "  0.6693202257156372,\n",
       "  0.6692528128623962,\n",
       "  0.670351505279541,\n",
       "  0.6717971563339233,\n",
       "  0.671989917755127,\n",
       "  0.6738017797470093,\n",
       "  0.6738789081573486,\n",
       "  0.6771364212036133,\n",
       "  0.678957998752594,\n",
       "  0.679025411605835,\n",
       "  0.6802494525909424,\n",
       "  0.6824179291725159,\n",
       "  0.6842972636222839],\n",
       " 'val_loss': [7.10103178024292,\n",
       "  7.790803909301758,\n",
       "  8.09199047088623,\n",
       "  8.2160062789917,\n",
       "  8.417610168457031,\n",
       "  8.57169246673584,\n",
       "  8.700201034545898,\n",
       "  9.049493789672852,\n",
       "  9.045326232910156,\n",
       "  9.158899307250977,\n",
       "  8.87610912322998,\n",
       "  9.188033103942871,\n",
       "  9.214649200439453,\n",
       "  9.350272178649902,\n",
       "  9.48710823059082,\n",
       "  9.631108283996582,\n",
       "  9.822190284729004,\n",
       "  9.807124137878418,\n",
       "  9.957968711853027,\n",
       "  10.048652648925781,\n",
       "  10.127228736877441,\n",
       "  10.418761253356934,\n",
       "  10.518302917480469,\n",
       "  10.512227058410645,\n",
       "  10.612751960754395,\n",
       "  10.976446151733398,\n",
       "  11.000272750854492,\n",
       "  11.232447624206543,\n",
       "  11.029047012329102,\n",
       "  10.879340171813965,\n",
       "  11.32581615447998,\n",
       "  11.220947265625,\n",
       "  11.437735557556152,\n",
       "  11.108345031738281,\n",
       "  11.583620071411133,\n",
       "  11.767277717590332,\n",
       "  11.7405366897583,\n",
       "  11.251949310302734,\n",
       "  11.898476600646973,\n",
       "  11.351972579956055,\n",
       "  11.334320068359375,\n",
       "  11.548629760742188,\n",
       "  11.395694732666016,\n",
       "  11.299511909484863,\n",
       "  11.482762336730957,\n",
       "  11.637826919555664,\n",
       "  11.561102867126465,\n",
       "  11.268823623657227,\n",
       "  11.811680793762207,\n",
       "  11.554287910461426],\n",
       " 'val_accuracy': [0.1012449637055397,\n",
       "  0.10014646500349045,\n",
       "  0.10454045981168747,\n",
       "  0.1052727922797203,\n",
       "  0.09703405201435089,\n",
       "  0.08293665200471878,\n",
       "  0.09099230915307999,\n",
       "  0.08659831434488297,\n",
       "  0.08220431953668594,\n",
       "  0.08183815330266953,\n",
       "  0.07524716109037399,\n",
       "  0.08110582083463669,\n",
       "  0.07195166498422623,\n",
       "  0.07433174550533295,\n",
       "  0.06590992212295532,\n",
       "  0.067374587059021,\n",
       "  0.06829000264406204,\n",
       "  0.06462834030389786,\n",
       "  0.06517758965492249,\n",
       "  0.07030391693115234,\n",
       "  0.06243134289979935,\n",
       "  0.06169901043176651,\n",
       "  0.05986817926168442,\n",
       "  0.056023433804512024,\n",
       "  0.06243134289979935,\n",
       "  0.058037348091602325,\n",
       "  0.060417428612709045,\n",
       "  0.05657268315553665,\n",
       "  0.053460270166397095,\n",
       "  0.059502013027668,\n",
       "  0.05492493510246277,\n",
       "  0.05400951951742172,\n",
       "  0.05657268315553665,\n",
       "  0.05638960003852844,\n",
       "  0.05638960003852844,\n",
       "  0.053643353283405304,\n",
       "  0.055840350687503815,\n",
       "  0.05913584679365158,\n",
       "  0.05657268315553665,\n",
       "  0.05492493510246277,\n",
       "  0.05657268315553665,\n",
       "  0.053643353283405304,\n",
       "  0.05693884938955307,\n",
       "  0.05638960003852844,\n",
       "  0.055840350687503815,\n",
       "  0.05419260263442993,\n",
       "  0.053643353283405304,\n",
       "  0.055657267570495605,\n",
       "  0.051080189645290375,\n",
       "  0.051629438996315]}"
      ]
     },
     "execution_count": 18,
     "metadata": {},
     "output_type": "execute_result"
    }
   ],
   "source": [
    "history"
   ]
  },
  {
   "cell_type": "code",
   "execution_count": 15,
   "id": "d165ebc1",
   "metadata": {},
   "outputs": [
    {
     "data": {
      "text/plain": [
       "<matplotlib.legend.Legend at 0x20b77f064c8>"
      ]
     },
     "execution_count": 15,
     "metadata": {},
     "output_type": "execute_result"
    },
    {
     "data": {
      "image/png": "[encoded data removed]",
      "text/plain": [
       "<Figure size 640x480 with 1 Axes>"
      ]
     },
     "metadata": {},
     "output_type": "display_data"
    }
   ],
   "source": [
    "plt.plot(history['loss'])\n",
    "plt.plot(history['val_loss'])\n",
    "plt.title('model loss')\n",
    "plt.ylabel('loss')\n",
    "plt.xlabel('epoch')\n",
    "plt.legend(['train', 'test'], loc='upper left')"
   ]
  },
  {
   "cell_type": "code",
   "execution_count": null,
   "id": "e7b754fc",
   "metadata": {},
   "outputs": [],
   "source": []
  }
 ],
 "metadata": {
  "kernelspec": {
   "display_name": "Python 3 (ipykernel)",
   "language": "python",
   "name": "python3"
  },
  "language_info": {
   "codemirror_mode": {
    "name": "ipython",
    "version": 3
   },
   "file_extension": ".py",
   "mimetype": "text/x-python",
   "name": "python",
   "nbconvert_exporter": "python",
   "pygments_lexer": "ipython3",
   "version": "3.7.16"
  }
 },
 "nbformat": 4,
 "nbformat_minor": 5
}
