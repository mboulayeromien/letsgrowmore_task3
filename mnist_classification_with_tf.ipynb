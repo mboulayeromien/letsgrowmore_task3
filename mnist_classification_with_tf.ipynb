{
 "cells": [
  {
   "cell_type": "code",
   "execution_count": 1,
   "id": "33545df2",
   "metadata": {},
   "outputs": [],
   "source": [
    "import numpy as np\n",
    "import pandas as pd\n",
    "\n",
    "from sklearn.model_selection import train_test_split\n",
    "\n",
    "from tensorflow.keras.preprocessing.image import ImageDataGenerator\n",
    "from tensorflow.keras.utils import to_categorical \n",
    "\n",
    "from tensorflow.keras.models import Sequential, load_model\n",
    "from tensorflow.keras.layers import Dense, Dropout, Flatten\n",
    "from tensorflow.keras.layers import Conv2D, MaxPooling2D, BatchNormalization\n",
    "from tensorflow.keras.optimizers import Adam\n",
    "\n",
    "from tensorflow.keras.callbacks import LearningRateScheduler\n",
    "from tensorflow.keras.callbacks import EarlyStopping\n",
    "import tensorflow as tf"
   ]
  },
  {
   "cell_type": "code",
   "execution_count": 2,
   "id": "db1f273c",
   "metadata": {},
   "outputs": [],
   "source": [
    "(X_train, y_train), (X_test, y_test) = tf.keras.datasets.mnist.load_data()"
   ]
  },
  {
   "cell_type": "code",
   "execution_count": 3,
   "id": "9bdbe5a0",
   "metadata": {},
   "outputs": [],
   "source": [
    "# X = train.iloc[:,1:]\n",
    "# Y = train.iloc[:,0]\n",
    "\n",
    "#splitting dataframe using train_test_split\n",
    "# x_train , x_test , y_train , y_test = train_test_split(X_train, Y , test_size=0.1, random_state=42)"
   ]
  },
  {
   "cell_type": "code",
   "execution_count": 4,
   "id": "a51f35cf",
   "metadata": {},
   "outputs": [],
   "source": [
    "X_train = X_train.reshape(-1, 28, 28, 1)\n",
    "X_test = X_test.reshape(-1, 28, 28, 1)\n",
    "# df_test=df_test.values.reshape(-1,28,28,1)"
   ]
  },
  {
   "cell_type": "code",
   "execution_count": 5,
   "id": "a79f2df2",
   "metadata": {},
   "outputs": [],
   "source": [
    "#notice num_classes is set to 10 as we have 10 different labels\n",
    "y_train = to_categorical(y_train, num_classes=10)\n",
    "y_test = to_categorical(y_test, num_classes=10)\n"
   ]
  },
  {
   "cell_type": "code",
   "execution_count": 6,
   "id": "7ec6b72a",
   "metadata": {},
   "outputs": [
    {
     "data": {
      "text/plain": [
       "(60000, 28, 28, 1)"
      ]
     },
     "execution_count": 6,
     "metadata": {},
     "output_type": "execute_result"
    }
   ],
   "source": [
    "X_train.shape"
   ]
  },
  {
   "cell_type": "code",
   "execution_count": null,
   "id": "4a668d09",
   "metadata": {},
   "outputs": [],
   "source": []
  },
  {
   "cell_type": "code",
   "execution_count": 7,
   "id": "ecde73cb",
   "metadata": {},
   "outputs": [],
   "source": [
    "model = Sequential()\n",
    "\n",
    "model.add(Conv2D(filters=32, kernel_size=(3, 3), activation='relu', strides=1, padding='same', data_format='channels_last',\n",
    "                 input_shape=(28,28,1)))\n",
    "model.add(BatchNormalization())\n",
    "model.add(Conv2D(filters=32, kernel_size=(3, 3), activation='relu', strides=1, padding='same', data_format='channels_last'))\n",
    "model.add(BatchNormalization())\n",
    "model.add(MaxPooling2D(pool_size=(2, 2), strides=2, padding='valid' ))\n",
    "model.add(Dropout(0.25))\n",
    "\n",
    "model.add(Conv2D(filters=64, kernel_size=(3, 3), activation='relu', strides=1, padding='same', data_format='channels_last'))\n",
    "model.add(BatchNormalization())\n",
    "model.add(Conv2D(filters=64, kernel_size=(3, 3), strides=1, padding='same', activation='relu', data_format='channels_last'))\n",
    "model.add(BatchNormalization())\n",
    "model.add(MaxPooling2D(pool_size=(2, 2), padding='valid', strides=2))\n",
    "model.add(Dropout(0.25))\n",
    "\n",
    "model.add(Flatten())\n",
    "model.add(Dense(512, activation='relu'))\n",
    "model.add(BatchNormalization())\n",
    "model.add(Dropout(0.25))\n",
    "model.add(Dense(1024, activation='relu'))\n",
    "model.add(BatchNormalization())\n",
    "model.add(Dropout(0.5))\n",
    "model.add(Dense(10, activation='softmax'))"
   ]
  },
  {
   "cell_type": "code",
   "execution_count": 8,
   "id": "3155dfb0",
   "metadata": {},
   "outputs": [
    {
     "name": "stderr",
     "output_type": "stream",
     "text": [
      "WARNING:absl:`lr` is deprecated, please use `learning_rate` instead, or use the legacy optimizer, e.g.,tf.keras.optimizers.legacy.Adam.\n"
     ]
    }
   ],
   "source": [
    "optimizer = Adam(lr=0.001, beta_1=0.9, beta_2=0.999 )\n",
    "model.compile(optimizer=optimizer, loss=\"categorical_crossentropy\", metrics=[\"accuracy\"])\n"
   ]
  },
  {
   "cell_type": "code",
   "execution_count": 9,
   "id": "4b99f6da",
   "metadata": {},
   "outputs": [
    {
     "name": "stdout",
     "output_type": "stream",
     "text": [
      "Model: \"sequential\"\n",
      "_________________________________________________________________\n",
      " Layer (type)                Output Shape              Param #   \n",
      "=================================================================\n",
      " conv2d (Conv2D)             (None, 28, 28, 32)        320       \n",
      "                                                                 \n",
      " batch_normalization (BatchN  (None, 28, 28, 32)       128       \n",
      " ormalization)                                                   \n",
      "                                                                 \n",
      " conv2d_1 (Conv2D)           (None, 28, 28, 32)        9248      \n",
      "                                                                 \n",
      " batch_normalization_1 (Batc  (None, 28, 28, 32)       128       \n",
      " hNormalization)                                                 \n",
      "                                                                 \n",
      " max_pooling2d (MaxPooling2D  (None, 14, 14, 32)       0         \n",
      " )                                                               \n",
      "                                                                 \n",
      " dropout (Dropout)           (None, 14, 14, 32)        0         \n",
      "                                                                 \n",
      " conv2d_2 (Conv2D)           (None, 14, 14, 64)        18496     \n",
      "                                                                 \n",
      " batch_normalization_2 (Batc  (None, 14, 14, 64)       256       \n",
      " hNormalization)                                                 \n",
      "                                                                 \n",
      " conv2d_3 (Conv2D)           (None, 14, 14, 64)        36928     \n",
      "                                                                 \n",
      " batch_normalization_3 (Batc  (None, 14, 14, 64)       256       \n",
      " hNormalization)                                                 \n",
      "                                                                 \n",
      " max_pooling2d_1 (MaxPooling  (None, 7, 7, 64)         0         \n",
      " 2D)                                                             \n",
      "                                                                 \n",
      " dropout_1 (Dropout)         (None, 7, 7, 64)          0         \n",
      "                                                                 \n",
      " flatten (Flatten)           (None, 3136)              0         \n",
      "                                                                 \n",
      " dense (Dense)               (None, 512)               1606144   \n",
      "                                                                 \n",
      " batch_normalization_4 (Batc  (None, 512)              2048      \n",
      " hNormalization)                                                 \n",
      "                                                                 \n",
      " dropout_2 (Dropout)         (None, 512)               0         \n",
      "                                                                 \n",
      " dense_1 (Dense)             (None, 1024)              525312    \n",
      "                                                                 \n",
      " batch_normalization_5 (Batc  (None, 1024)             4096      \n",
      " hNormalization)                                                 \n",
      "                                                                 \n",
      " dropout_3 (Dropout)         (None, 1024)              0         \n",
      "                                                                 \n",
      " dense_2 (Dense)             (None, 10)                10250     \n",
      "                                                                 \n",
      "=================================================================\n",
      "Total params: 2,213,610\n",
      "Trainable params: 2,210,154\n",
      "Non-trainable params: 3,456\n",
      "_________________________________________________________________\n"
     ]
    }
   ],
   "source": [
    "model.summary()"
   ]
  },
  {
   "cell_type": "code",
   "execution_count": 10,
   "id": "62600127",
   "metadata": {},
   "outputs": [],
   "source": [
    "#for our case LearningRateScheduler will work great\n",
    "reduce_lr = LearningRateScheduler(lambda x: 1e-3 * 0.9 ** x)"
   ]
  },
  {
   "cell_type": "code",
   "execution_count": 11,
   "id": "2a12ea3c",
   "metadata": {},
   "outputs": [
    {
     "name": "stdout",
     "output_type": "stream",
     "text": [
      "Epoch 1 Learning Rate: 0.001\n",
      "Epoch 2 Learning Rate: 0.0009000000000000001\n",
      "Epoch 3 Learning Rate: 0.0008100000000000001\n",
      "Epoch 4 Learning Rate: 0.0007290000000000002\n",
      "Epoch 5 Learning Rate: 0.0006561000000000001\n",
      "Epoch 6 Learning Rate: 0.00059049\n",
      "Epoch 7 Learning Rate: 0.000531441\n",
      "Epoch 8 Learning Rate: 0.0004782969000000001\n",
      "Epoch 9 Learning Rate: 0.0004304672100000001\n",
      "Epoch 10 Learning Rate: 0.0003874204890000001\n"
     ]
    }
   ],
   "source": [
    "#visualizing what the learning rate decay will do to the learning rate through every epoch\n",
    "decays = [(lambda x: 1e-3 * 0.9 ** x)(x) for x in range(10)]\n",
    "i=1\n",
    "\n",
    "for lr in decays:\n",
    "    print(\"Epoch \" + str(i) +\" Learning Rate: \" + str(lr))\n",
    "    i+=1"
   ]
  },
  {
   "cell_type": "code",
   "execution_count": 12,
   "id": "09027573",
   "metadata": {},
   "outputs": [],
   "source": [
    "#by default this is evaluated on 'val_loss'\n",
    "early_stopping = EarlyStopping(\n",
    "    min_delta=0.001, # minimium amount of change to count as an improvement\n",
    "    patience=20, # how many epochs to wait before stopping\n",
    "    restore_best_weights=True,\n",
    ")"
   ]
  },
  {
   "cell_type": "code",
   "execution_count": 13,
   "id": "1ae9e9dd",
   "metadata": {},
   "outputs": [],
   "source": [
    "datagen = ImageDataGenerator(\n",
    "            featurewise_center=False,  # set input mean to 0 over the dataset\n",
    "            samplewise_center=False,  # set each sample mean to 0\n",
    "            featurewise_std_normalization=False,  # divide inputs by std of the dataset\n",
    "            samplewise_std_normalization=False,  # divide each input by its std\n",
    "            zca_whitening=False,  # apply ZCA whitening\n",
    "            rotation_range=10,  # randomly rotate images in the range (degrees, 0 to 180)\n",
    "            zoom_range = 0.1, # Randomly zoom image \n",
    "            width_shift_range=0.1,  # randomly shift images horizontally (fraction of total width)\n",
    "            height_shift_range=0.1,  # randomly shift images vertically (fraction of total height)\n",
    "            horizontal_flip=False,  # randomly flip images\n",
    "            vertical_flip=False)  # randomly flip images"
   ]
  },
  {
   "cell_type": "code",
   "execution_count": 14,
   "id": "b6aef876",
   "metadata": {},
   "outputs": [
    {
     "name": "stderr",
     "output_type": "stream",
     "text": [
      "C:\\ProgramData\\anaconda3\\envs\\tensorF\\lib\\site-packages\\ipykernel_launcher.py:8: UserWarning: `Model.fit_generator` is deprecated and will be removed in a future version. Please use `Model.fit`, which supports generators.\n",
      "  \n"
     ]
    },
    {
     "name": "stdout",
     "output_type": "stream",
     "text": [
      "Epoch 1/24\n",
      "937/937 [==============================] - 699s 734ms/step - loss: 0.3009 - accuracy: 0.9116 - val_loss: 0.0468 - val_accuracy: 0.9859 - lr: 0.0010\n",
      "Epoch 2/24\n",
      "937/937 [==============================] - 805s 859ms/step - loss: 0.1033 - accuracy: 0.9687 - val_loss: 0.0429 - val_accuracy: 0.9843 - lr: 9.0000e-04\n",
      "Epoch 3/24\n",
      "937/937 [==============================] - 757s 808ms/step - loss: 0.0836 - accuracy: 0.9748 - val_loss: 0.0300 - val_accuracy: 0.9910 - lr: 8.1000e-04\n",
      "Epoch 4/24\n",
      "937/937 [==============================] - 738s 788ms/step - loss: 0.0698 - accuracy: 0.9793 - val_loss: 0.0245 - val_accuracy: 0.9919 - lr: 7.2900e-04\n",
      "Epoch 5/24\n",
      "937/937 [==============================] - 723s 772ms/step - loss: 0.0609 - accuracy: 0.9822 - val_loss: 0.0252 - val_accuracy: 0.9914 - lr: 6.5610e-04\n",
      "Epoch 6/24\n",
      "937/937 [==============================] - 813s 867ms/step - loss: 0.0533 - accuracy: 0.9831 - val_loss: 0.0324 - val_accuracy: 0.9895 - lr: 5.9049e-04\n",
      "Epoch 7/24\n",
      "937/937 [==============================] - 782s 834ms/step - loss: 0.0472 - accuracy: 0.9859 - val_loss: 0.0174 - val_accuracy: 0.9941 - lr: 5.3144e-04\n",
      "Epoch 8/24\n",
      "937/937 [==============================] - 755s 806ms/step - loss: 0.0441 - accuracy: 0.9865 - val_loss: 0.0180 - val_accuracy: 0.9941 - lr: 4.7830e-04\n",
      "Epoch 9/24\n",
      "937/937 [==============================] - 779s 831ms/step - loss: 0.0396 - accuracy: 0.9877 - val_loss: 0.0138 - val_accuracy: 0.9951 - lr: 4.3047e-04\n",
      "Epoch 10/24\n",
      "937/937 [==============================] - 749s 799ms/step - loss: 0.0379 - accuracy: 0.9883 - val_loss: 0.0175 - val_accuracy: 0.9947 - lr: 3.8742e-04\n",
      "Epoch 11/24\n",
      "937/937 [==============================] - 767s 819ms/step - loss: 0.0340 - accuracy: 0.9899 - val_loss: 0.0145 - val_accuracy: 0.9953 - lr: 3.4868e-04\n",
      "Epoch 12/24\n",
      "937/937 [==============================] - 774s 826ms/step - loss: 0.0298 - accuracy: 0.9910 - val_loss: 0.0141 - val_accuracy: 0.9956 - lr: 3.1381e-04\n",
      "Epoch 13/24\n",
      "937/937 [==============================] - 770s 822ms/step - loss: 0.0276 - accuracy: 0.9915 - val_loss: 0.0128 - val_accuracy: 0.9959 - lr: 2.8243e-04\n",
      "Epoch 14/24\n",
      "937/937 [==============================] - 616s 657ms/step - loss: 0.0264 - accuracy: 0.9918 - val_loss: 0.0155 - val_accuracy: 0.9947 - lr: 2.5419e-04\n",
      "Epoch 15/24\n",
      "937/937 [==============================] - 626s 668ms/step - loss: 0.0253 - accuracy: 0.9920 - val_loss: 0.0152 - val_accuracy: 0.9950 - lr: 2.2877e-04\n",
      "Epoch 16/24\n",
      "937/937 [==============================] - 587s 627ms/step - loss: 0.0241 - accuracy: 0.9927 - val_loss: 0.0177 - val_accuracy: 0.9946 - lr: 2.0589e-04\n",
      "Epoch 17/24\n",
      "937/937 [==============================] - 585s 624ms/step - loss: 0.0223 - accuracy: 0.9930 - val_loss: 0.0117 - val_accuracy: 0.9957 - lr: 1.8530e-04\n",
      "Epoch 18/24\n",
      "937/937 [==============================] - 587s 627ms/step - loss: 0.0199 - accuracy: 0.9936 - val_loss: 0.0155 - val_accuracy: 0.9954 - lr: 1.6677e-04\n",
      "Epoch 19/24\n",
      "937/937 [==============================] - 586s 626ms/step - loss: 0.0207 - accuracy: 0.9934 - val_loss: 0.0115 - val_accuracy: 0.9964 - lr: 1.5009e-04\n",
      "Epoch 20/24\n",
      "937/937 [==============================] - 580s 619ms/step - loss: 0.0192 - accuracy: 0.9941 - val_loss: 0.0125 - val_accuracy: 0.9964 - lr: 1.3509e-04\n",
      "Epoch 21/24\n",
      "937/937 [==============================] - 576s 614ms/step - loss: 0.0170 - accuracy: 0.9947 - val_loss: 0.0130 - val_accuracy: 0.9953 - lr: 1.2158e-04\n",
      "Epoch 22/24\n",
      "937/937 [==============================] - 575s 614ms/step - loss: 0.0171 - accuracy: 0.9945 - val_loss: 0.0131 - val_accuracy: 0.9953 - lr: 1.0942e-04\n",
      "Epoch 23/24\n",
      "937/937 [==============================] - 576s 615ms/step - loss: 0.0178 - accuracy: 0.9946 - val_loss: 0.0123 - val_accuracy: 0.9959 - lr: 9.8477e-05\n",
      "Epoch 24/24\n",
      "937/937 [==============================] - 576s 614ms/step - loss: 0.0156 - accuracy: 0.9949 - val_loss: 0.0120 - val_accuracy: 0.9961 - lr: 8.8629e-05\n"
     ]
    }
   ],
   "source": [
    "batch_size = 64\n",
    "epochs = 24\n",
    "\n",
    "# Fit the Model\n",
    "history = model.fit_generator(datagen.flow(X_train, y_train, batch_size = batch_size), epochs = epochs, \n",
    "                              validation_data = (X_test, y_test), verbose=1, \n",
    "                              steps_per_epoch=X_train.shape[0] // batch_size,\n",
    "                              callbacks = [reduce_lr]) #left out early_stopping parameter as it gets better accuracy"
   ]
  },
  {
   "cell_type": "code",
   "execution_count": 15,
   "id": "c9601f7f",
   "metadata": {},
   "outputs": [
    {
     "name": "stdout",
     "output_type": "stream",
     "text": [
      "313/313 [==============================] - 27s 82ms/step\n"
     ]
    }
   ],
   "source": [
    "pred_digits_test = np.argmax(model.predict(X_test),axis=1)\n",
    "image_id_test = []\n",
    "\n",
    "for i in range (len(pred_digits_test)):\n",
    "    image_id_test.append(i+1)\n",
    "    \n",
    "d = {'ImageId':image_id_test,'Label':pred_digits_test}\n",
    "answer = pd.DataFrame(d)\n",
    "\n",
    "answer.to_csv('answer.csv',index=False)"
   ]
  },
  {
   "cell_type": "code",
   "execution_count": 16,
   "id": "0e89ce67",
   "metadata": {},
   "outputs": [],
   "source": [
    "pred_digits_test = to_categorical(pred_digits_test, num_classes=10)"
   ]
  },
  {
   "cell_type": "code",
   "execution_count": 17,
   "id": "a46dcbea",
   "metadata": {},
   "outputs": [],
   "source": [
    "from sklearn.metrics import r2_score, classification_report"
   ]
  },
  {
   "cell_type": "code",
   "execution_count": null,
   "id": "239adc2c",
   "metadata": {},
   "outputs": [],
   "source": []
  },
  {
   "cell_type": "code",
   "execution_count": 18,
   "id": "6fedeef7",
   "metadata": {},
   "outputs": [
    {
     "data": {
      "text/plain": [
       "0.9913533763263501"
      ]
     },
     "execution_count": 18,
     "metadata": {},
     "output_type": "execute_result"
    }
   ],
   "source": [
    "r2_score(pred_digits_test, y_test)"
   ]
  },
  {
   "cell_type": "code",
   "execution_count": 19,
   "id": "89273bbf",
   "metadata": {},
   "outputs": [
    {
     "name": "stdout",
     "output_type": "stream",
     "text": [
      "              precision    recall  f1-score   support\n",
      "\n",
      "           0       1.00      1.00      1.00       981\n",
      "           1       1.00      1.00      1.00      1135\n",
      "           2       1.00      1.00      1.00      1030\n",
      "           3       1.00      0.99      1.00      1016\n",
      "           4       1.00      1.00      1.00       982\n",
      "           5       0.99      1.00      1.00       889\n",
      "           6       0.99      1.00      1.00       955\n",
      "           7       1.00      0.99      0.99      1030\n",
      "           8       1.00      1.00      1.00       975\n",
      "           9       0.99      1.00      0.99      1007\n",
      "\n",
      "   micro avg       1.00      1.00      1.00     10000\n",
      "   macro avg       1.00      1.00      1.00     10000\n",
      "weighted avg       1.00      1.00      1.00     10000\n",
      " samples avg       1.00      1.00      1.00     10000\n",
      "\n"
     ]
    }
   ],
   "source": [
    "print(classification_report(pred_digits_test, y_test))"
   ]
  },
  {
   "cell_type": "code",
   "execution_count": 20,
   "id": "0fd2323e",
   "metadata": {},
   "outputs": [],
   "source": [
    "model.save('mnist_class_cnn.h5')"
   ]
  },
  {
   "cell_type": "code",
   "execution_count": null,
   "id": "473a17e1",
   "metadata": {},
   "outputs": [],
   "source": []
  }
 ],
 "metadata": {
  "kernelspec": {
   "display_name": "Python 3 (ipykernel)",
   "language": "python",
   "name": "python3"
  },
  "language_info": {
   "codemirror_mode": {
    "name": "ipython",
    "version": 3
   },
   "file_extension": ".py",
   "mimetype": "text/x-python",
   "name": "python",
   "nbconvert_exporter": "python",
   "pygments_lexer": "ipython3",
   "version": "3.7.16"
  }
 },
 "nbformat": 4,
 "nbformat_minor": 5
}
